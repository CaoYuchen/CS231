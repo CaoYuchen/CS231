{
 "cells": [
  {
   "cell_type": "code",
   "execution_count": 2,
   "metadata": {
    "collapsed": false
   },
   "outputs": [
    {
     "name": "stdout",
     "output_type": "stream",
     "text": [
      "5040\n"
     ]
    }
   ],
   "source": [
    "#function\n",
    "def f(N):\n",
    "    out = 1\n",
    "    for i in xrange(N):\n",
    "        out *= i+1\n",
    "        \n",
    "    return out\n",
    "\n",
    "N= 10\n",
    "print f(7)\n",
    "\n"
   ]
  },
  {
   "cell_type": "code",
   "execution_count": 4,
   "metadata": {
    "collapsed": false
   },
   "outputs": [
    {
     "name": "stdout",
     "output_type": "stream",
     "text": [
      "(1, 2, 3, 4, 5, 'ww', [1, 2, 3], (1, 2), {'W1': 2})\n",
      "{'W1': 2} 9\n"
     ]
    }
   ],
   "source": [
    "# tuple\n",
    "t = (1,2,3,4,5,'ww',[1,2,3],(1,2),{'W1':2})\n",
    "print t\n",
    "print t[-1], len(t)"
   ]
  },
  {
   "cell_type": "code",
   "execution_count": 6,
   "metadata": {
    "collapsed": false
   },
   "outputs": [
    {
     "name": "stdout",
     "output_type": "stream",
     "text": [
      "deep learning\n",
      "[1, 2, 3, 'deep learning', [1, 2, 3], (1, 2, 3), {'person': 'xu'}]\n"
     ]
    }
   ],
   "source": [
    "# list\n",
    "l = [1,2,3,'deep learning',[1,2,3],(1,2,3),{'person': 'xu'}]\n",
    "a = l[3]\n",
    "print a\n",
    "print l"
   ]
  },
  {
   "cell_type": "code",
   "execution_count": 9,
   "metadata": {
    "collapsed": false
   },
   "outputs": [
    {
     "name": "stdout",
     "output_type": "stream",
     "text": [
      "{'W1': 0, 'W10': 9, 'W7': 6, 'W6': 5, 'W5': 4, 'W4': 3, 'W3': 2, 'b1': 0, 'b2': 0, 'b3': 0, 'W8': 7, 'W9': 8, 'W2': 1}\n",
      "W1 0\n",
      "W10 9\n",
      "W7 6\n",
      "W6 5\n",
      "W5 4\n",
      "W4 3\n",
      "W3 2\n",
      "b1 0\n",
      "b2 0\n",
      "b3 0\n",
      "W8 7\n",
      "W9 8\n",
      "W2 1\n"
     ]
    }
   ],
   "source": [
    "# dictionary\n",
    "d = {'W1': 1,'b1' :0,'W2': 2, 'b2':0, 'W3': 3,'b3':0}\n",
    "for i in range(10):\n",
    "    d['W{}'.format(i+1)] = i\n",
    "\n",
    "print d\n",
    "\n",
    "for i, v in d.iteritems():\n",
    "    print i, v"
   ]
  },
  {
   "cell_type": "code",
   "execution_count": 10,
   "metadata": {
    "collapsed": false
   },
   "outputs": [
    {
     "name": "stdout",
     "output_type": "stream",
     "text": [
      "{(0, 1): 0, (1, 2): 1, (6, 7): 6, (5, 6): 5, (7, 8): 7, (8, 9): 8, (4, 5): 4, (2, 3): 2, (9, 10): 9, (3, 4): 3}\n",
      "1 0\n"
     ]
    }
   ],
   "source": [
    "# dictionary\n",
    "d = {(x,x+1) : x for x in range(10)}\n",
    "\n",
    "print d\n",
    "\n",
    "print d[(1,2)], d[(0,1)]"
   ]
  },
  {
   "cell_type": "code",
   "execution_count": 14,
   "metadata": {
    "collapsed": false
   },
   "outputs": [
    {
     "name": "stdout",
     "output_type": "stream",
     "text": [
      "[[4 5 6]\n",
      " [2 9 6]\n",
      " [5 8 7]\n",
      " [1 3 3]]\n",
      "[[ True  True False]]\n",
      "[[ 5  6  6]\n",
      " [ 3 10  6]\n",
      " [ 6  9  7]\n",
      " [ 2  4  3]]\n"
     ]
    }
   ],
   "source": [
    "# broadcasting\n",
    "import numpy as np\n",
    "a = np.array([[4,5,6],[2,9,6],[5,8,7],[1,3,3]])\n",
    "print a\n",
    "b =  np.random.rand(1,3)>0.2 #test with (3), (4), (1,3), (4,1)\n",
    "print b\n",
    "c = a + b\n",
    "print c"
   ]
  },
  {
   "cell_type": "code",
   "execution_count": 2,
   "metadata": {
    "collapsed": false
   },
   "outputs": [
    {
     "name": "stdout",
     "output_type": "stream",
     "text": [
      "[[4 5 6]\n",
      " [2 9 6]\n",
      " [5 8 7]\n",
      " [1 3 3]]\n",
      "355\n",
      "[[0 0]\n",
      " [0 0]\n",
      " [0 0]\n",
      " [0 0]]\n",
      "[[16 25 36]\n",
      " [ 4 81 36]\n",
      " [25 64 49]\n",
      " [ 1  9  9]]\n"
     ]
    }
   ],
   "source": [
    "import numpy as np\n",
    "F = np.array([[4,5,6],[2,9,6],[5,8,7],[1,3,3]])\n",
    "print F\n",
    "B =  np.sum(F*F) #test with (3), (4), (1,3), (4,1)\n",
    "print B\n",
    "C = F*F\n",
    "y=[1,2]\n",
    "D=np.zeros((F.shape[0],2),dtype=np.int)\n",
    "print D\n",
    "\n",
    "print C\n"
   ]
  },
  {
   "cell_type": "code",
   "execution_count": 14,
   "metadata": {
    "collapsed": false
   },
   "outputs": [
    {
     "name": "stdout",
     "output_type": "stream",
     "text": [
      "[[-0.96089837 -1.00407898 -0.4083186  -0.12133459  0.24341601  0.12423645\n",
      "  -0.66309739 -0.34300606  1.02494022  0.44893048]\n",
      " [ 0.576589    0.19725541 -1.2118448   0.08056687  0.82017164  1.71019467\n",
      "  -1.5640457   1.03540378  0.58942501  0.5917427 ]\n",
      " [ 1.31550035  0.05095746  1.41249707  0.87262185  0.17320821 -0.11616386\n",
      "   0.78489126 -0.78025295 -2.18668847  0.77416116]\n",
      " [-0.10313021 -1.33434953  0.92724456  1.39951034 -0.76825635  1.04900761\n",
      "   0.60322627  0.88466864  0.33923361  1.51520711]]\n",
      "4 10\n"
     ]
    }
   ],
   "source": [
    "W = np.random.randn(4, 10) \n",
    "print W\n",
    "X, dim=W.shape\n",
    "print X, dim"
   ]
  },
  {
   "cell_type": "code",
   "execution_count": 51,
   "metadata": {
    "collapsed": false
   },
   "outputs": [
    {
     "name": "stdout",
     "output_type": "stream",
     "text": [
      "[ 5.08157461  2.90543197  3.75703698  3.13566837  1.20946755]\n",
      "[ 1.91261909  1.54961354  1.71685485]\n",
      "[[ 1.91261909 -0.99818682 -1.67944618  0.2897283   0.81937539]\n",
      " [-0.0695875  -0.66838217  1.24017242  1.54961354 -0.74098524]\n",
      " [ 1.71685485 -1.19715246  1.68425248  0.36083187 -0.53427698]]\n",
      "[[ 1.91261909 -0.0695875   1.71685485]\n",
      " [-0.99818682 -0.66838217 -1.19715246]\n",
      " [-1.67944618  1.24017242  1.68425248]\n",
      " [ 0.2897283   1.54961354  0.36083187]\n",
      " [ 0.81937539 -0.74098524 -0.53427698]] [[ 1.  1.  1.]\n",
      " [ 1.  1.  1.]]\n"
     ]
    }
   ],
   "source": [
    "import numpy as np\n",
    "W=np.random.randn(3,5)\n",
    "X=np.random.randn(10,3)\n",
    "y=np.random.randn(10)\n",
    "reg=0.0001  \n",
    "\n",
    "    # Initialize the loss and gradient to zero.\n",
    "loss = 0.0\n",
    "dW = np.zeros_like(W)    # 得到一个和W同样shape的矩阵\n",
    "dW_each = np.zeros_like(W)\n",
    "num_train, dim = X.shape\n",
    "num_class = W.shape[1]\n",
    "f = X.dot(W)    # N by C\n",
    "    # Considering the Numeric Stability\n",
    "f_max = np.reshape(np.max(f, axis=1), (num_train, 1))   # 找到最大值然后减去，这样是为了防止后面的操作会出现数值上的一些偏差\n",
    "\n",
    "pp = np.sum(np.exp(f - f_max), axis=0, keepdims=False)\n",
    "print pp\n",
    "#print f - f_max\n",
    "a=np.random.randn(1,2)\n",
    "a=W\n",
    "ss=np.max(a,axis=1)\n",
    "ss=ss.T\n",
    "aaa=np.ones((2,3))\n",
    "print ss\n",
    "print a\n",
    "print a.T,aaa"
   ]
  },
  {
   "cell_type": "code",
   "execution_count": 49,
   "metadata": {
    "collapsed": false
   },
   "outputs": [
    {
     "name": "stdout",
     "output_type": "stream",
     "text": [
      "None\n"
     ]
    }
   ],
   "source": [
    "scores=None\n",
    "print scores"
   ]
  },
  {
   "cell_type": "code",
   "execution_count": null,
   "metadata": {
    "collapsed": true
   },
   "outputs": [],
   "source": []
  }
 ],
 "metadata": {
  "anaconda-cloud": {},
  "kernelspec": {
   "display_name": "Python [Root]",
   "language": "python",
   "name": "Python [Root]"
  },
  "language_info": {
   "codemirror_mode": {
    "name": "ipython",
    "version": 2
   },
   "file_extension": ".py",
   "mimetype": "text/x-python",
   "name": "python",
   "nbconvert_exporter": "python",
   "pygments_lexer": "ipython2",
   "version": "2.7.12"
  }
 },
 "nbformat": 4,
 "nbformat_minor": 0
}
