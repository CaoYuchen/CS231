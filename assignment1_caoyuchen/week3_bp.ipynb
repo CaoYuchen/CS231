{
 "cells": [
  {
   "cell_type": "markdown",
   "metadata": {
    "nbpresent": {
     "id": "33df0936-536f-476f-b908-f1f916391dfa"
    },
    "slideshow": {
     "slide_type": "-"
    }
   },
   "source": [
    "# BP examples\n"
   ]
  },
  {
   "cell_type": "code",
   "execution_count": 1,
   "metadata": {
    "collapsed": false
   },
   "outputs": [
    {
     "name": "stdout",
     "output_type": "stream",
     "text": [
      "[[ 2.]\n",
      " [-3.]]\n",
      "[[-1. -2.]]\n"
     ]
    }
   ],
   "source": [
    "# one layer NN with sigmoid activation function\n",
    "\n",
    "# forward model: f(w,b,x) = 1/(1+e^(-s)), where s = xw + b, x = [x1,x2], w = [w1, w2]^T\n",
    "\n",
    "import numpy as np\n",
    "\n",
    "w = np.array([2.0, -3.0]).reshape(2,1)\n",
    "x = np.array([[-1.0, -2.0]])\n",
    "b = -3.0\n",
    "print w\n",
    "print x"
   ]
  },
  {
   "cell_type": "code",
   "execution_count": 2,
   "metadata": {
    "collapsed": false,
    "nbpresent": {
     "id": "1d9e92e0-6f1d-4ebb-b006-46926558d16f"
    },
    "slideshow": {
     "slide_type": "notes"
    }
   },
   "outputs": [
    {
     "name": "stdout",
     "output_type": "stream",
     "text": [
      "s = 1.000000, output = 0.731059\n",
      "\n"
     ]
    }
   ],
   "source": [
    "# forward model\n",
    "s = np.dot(x,w) + b\n",
    "f = 1.0/(1+np.exp(-s))\n",
    "print 's = %f, output = %f\\n' %(s, f)"
   ]
  },
  {
   "cell_type": "code",
   "execution_count": 3,
   "metadata": {
    "collapsed": false
   },
   "outputs": [
    {
     "name": "stdout",
     "output_type": "stream",
     "text": [
      "dx =  [[ 0.39322387 -0.5898358 ]]\n",
      "dw =  [[-0.19661193]\n",
      " [-0.39322387]]\n",
      "ds = 0.196612, dw1 = -0.196612, dw2 =-0.393224, db = 0.196612\n"
     ]
    }
   ],
   "source": [
    "# gradient\n",
    "ds = (1-f)*f\n",
    "dw = x.T*ds\n",
    "db = ds\n",
    "dx = ds*w.T\n",
    "print 'dx = ', dx\n",
    "print 'dw = ', dw\n",
    "print 'ds = %f, dw1 = %f, dw2 =%f, db = %f' %(ds,dw[0],dw[1],db)  "
   ]
  },
  {
   "cell_type": "code",
   "execution_count": 4,
   "metadata": {
    "collapsed": false
   },
   "outputs": [
    {
     "name": "stdout",
     "output_type": "stream",
     "text": [
      "[[-0.48171715  2.84821806  0.24285057 -6.27512405  5.06894987]\n",
      " [-2.57008759  0.51174963 -0.37654453 -3.36144826 -1.34673997]\n",
      " [ 3.07343703 -0.71446201  0.50429241  3.62572389  1.2242635 ]\n",
      " [ 1.68606468  0.25722821  0.32233205  0.91745328  2.00765354]]\n",
      "[[ 1.04657255 -3.29524025  2.10600548 -0.45698212]\n",
      " [ 2.89798805  1.84153971 -2.33948406 -0.92571491]\n",
      " [-1.12429899 -3.99640742  0.45254807  0.89376836]]\n"
     ]
    }
   ],
   "source": [
    "# Matrix-Matrix multiply gradient.\n",
    "# forward pass D = XW\n",
    "W = np.random.randn(4, 5)\n",
    "X = np.random.randn(3, 4)\n",
    "D = X.dot(W) \n",
    "\n",
    "# now suppose we had the gradient on D from above in the circuit\n",
    "dD = np.random.randn(*D.shape) # same shape as D\n",
    "dW = np.dot(X.T,dD) #.T gives the transpose of the matrix\n",
    "dX = np.dot(dD,W.T)\n",
    "\n",
    "print dW\n",
    "print dX"
   ]
  },
  {
   "cell_type": "code",
   "execution_count": 5,
   "metadata": {
    "collapsed": false
   },
   "outputs": [
    {
     "name": "stdout",
     "output_type": "stream",
     "text": [
      "1.29455366246e-10 3.10206900594e-11\n"
     ]
    }
   ],
   "source": [
    "# check gradient array\n",
    "\n",
    "def eval_numerical_gradient_array(f, x, df, h=1e-5):\n",
    "  \"\"\"\n",
    "  Evaluate a numeric gradient for a function that accepts a numpy\n",
    "  array and returns a numpy array.\n",
    "  \"\"\"\n",
    "  grad = np.zeros_like(x)\n",
    "  it = np.nditer(x, flags=['multi_index'], op_flags=['readwrite'])\n",
    "  while not it.finished:\n",
    "    ix = it.multi_index\n",
    "    \n",
    "    oldval = x[ix]\n",
    "    x[ix] = oldval + h\n",
    "    pos = f(x).copy()\n",
    "    x[ix] = oldval - h\n",
    "    neg = f(x).copy()\n",
    "    x[ix] = oldval\n",
    "    \n",
    "    grad[ix] = np.sum((pos - neg) * df) / (2 * h)\n",
    "    it.iternext()\n",
    "  return grad\n",
    "\n",
    "def fw(w):\n",
    "    return X.dot(w)\n",
    "\n",
    "def fx(x):\n",
    "    return x.dot(W)\n",
    "\n",
    "def rel_error(x, y):\n",
    "  \"\"\" returns relative error \"\"\"\n",
    "  return np.max(np.abs(x - y) / (np.maximum(1e-8, np.abs(x) + np.abs(y))))\n",
    "\n",
    "dw = eval_numerical_gradient_array(fw, W, dD, h=1e-5)\n",
    "dx = eval_numerical_gradient_array(fx, X, dD, h=1e-5)\n",
    "\n",
    "re_w = rel_error(dw,dW)\n",
    "re_x = rel_error(dx,dX)\n",
    "\n",
    "print re_x, re_w"
   ]
  }
 ],
 "metadata": {
  "anaconda-cloud": {},
  "celltoolbar": "Slideshow",
  "kernelspec": {
   "display_name": "Python [Root]",
   "language": "python",
   "name": "Python [Root]"
  },
  "language_info": {
   "codemirror_mode": {
    "name": "ipython",
    "version": 2
   },
   "file_extension": ".py",
   "mimetype": "text/x-python",
   "name": "python",
   "nbconvert_exporter": "python",
   "pygments_lexer": "ipython2",
   "version": "2.7.12"
  },
  "nbpresent": {
   "slides": {
    "29d58a81-3668-4762-b6f2-85c209be0ff9": {
     "id": "29d58a81-3668-4762-b6f2-85c209be0ff9",
     "prev": "b8d637bb-2699-4205-bfd3-078845aca3c5",
     "regions": {}
    },
    "62e69861-d662-42db-a650-cae2978368d5": {
     "id": "62e69861-d662-42db-a650-cae2978368d5",
     "prev": null,
     "regions": {
      "fade09ab-7fcc-40ef-b57f-6477a15f0a43": {
       "attrs": {
        "height": 0.8,
        "width": 0.8,
        "x": 0.1,
        "y": 0.1
       },
       "content": {
        "cell": "33df0936-536f-476f-b908-f1f916391dfa",
        "part": "whole"
       },
       "id": "fade09ab-7fcc-40ef-b57f-6477a15f0a43"
      }
     }
    },
    "b8d637bb-2699-4205-bfd3-078845aca3c5": {
     "id": "b8d637bb-2699-4205-bfd3-078845aca3c5",
     "prev": "62e69861-d662-42db-a650-cae2978368d5",
     "regions": {
      "dbde5645-fb6a-4057-afc8-4d493953be7d": {
       "attrs": {
        "height": 0.8,
        "width": 0.8,
        "x": 0.1,
        "y": 0.1
       },
       "content": {
        "cell": "1d9e92e0-6f1d-4ebb-b006-46926558d16f",
        "part": "whole"
       },
       "id": "dbde5645-fb6a-4057-afc8-4d493953be7d"
      }
     }
    }
   },
   "themes": {}
  }
 },
 "nbformat": 4,
 "nbformat_minor": 0
}
